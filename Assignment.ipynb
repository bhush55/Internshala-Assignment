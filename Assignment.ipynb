{
 "cells": [
  {
   "cell_type": "code",
   "execution_count": 91,
   "id": "5a6b99aa-01d4-433b-99d5-6c0e5c2464ca",
   "metadata": {},
   "outputs": [],
   "source": [
    "\n",
    "import pandas as pd\n",
    "import numpy as np\n",
    "import matplotlib.pyplot as plt\n",
    "from tensorflow.keras import Sequential\n",
    "from tensorflow.keras.layers import Dense, Conv2D, MaxPooling2D, Flatten\n",
    "from tensorflow.keras.utils import to_categorical\n",
    "from tensorflow.keras.models import Sequential\n",
    "from sklearn.preprocessing import StandardScaler\n",
    "from sklearn.model_selection import train_test_split\n",
    "from sklearn.preprocessing import LabelEncoder\n",
    "from skimage.transform import resize\n"
   ]
  },
  {
   "cell_type": "code",
   "execution_count": 40,
   "id": "43abf14c-3f9b-4a4a-9691-5cb9f8e578cf",
   "metadata": {},
   "outputs": [],
   "source": [
    "# load the dataset labels that we have created \n",
    "df = pd.read_csv('labels.csv')"
   ]
  },
  {
   "cell_type": "code",
   "execution_count": 41,
   "id": "482f293e-c393-4818-9a95-f31274fe9c30",
   "metadata": {},
   "outputs": [
    {
     "data": {
      "text/html": [
       "<div>\n",
       "<style scoped>\n",
       "    .dataframe tbody tr th:only-of-type {\n",
       "        vertical-align: middle;\n",
       "    }\n",
       "\n",
       "    .dataframe tbody tr th {\n",
       "        vertical-align: top;\n",
       "    }\n",
       "\n",
       "    .dataframe thead th {\n",
       "        text-align: right;\n",
       "    }\n",
       "</style>\n",
       "<table border=\"1\" class=\"dataframe\">\n",
       "  <thead>\n",
       "    <tr style=\"text-align: right;\">\n",
       "      <th></th>\n",
       "      <th>Image</th>\n",
       "      <th>Category</th>\n",
       "      <th>Defect Type</th>\n",
       "    </tr>\n",
       "  </thead>\n",
       "  <tbody>\n",
       "    <tr>\n",
       "      <th>0</th>\n",
       "      <td>dataset\\non_defective\\non_defective_0.jpg</td>\n",
       "      <td>non_defective</td>\n",
       "      <td>NaN</td>\n",
       "    </tr>\n",
       "    <tr>\n",
       "      <th>1</th>\n",
       "      <td>dataset\\non_defective\\non_defective_1.jpg</td>\n",
       "      <td>non_defective</td>\n",
       "      <td>NaN</td>\n",
       "    </tr>\n",
       "    <tr>\n",
       "      <th>2</th>\n",
       "      <td>dataset\\non_defective\\non_defective_10.jpg</td>\n",
       "      <td>non_defective</td>\n",
       "      <td>NaN</td>\n",
       "    </tr>\n",
       "    <tr>\n",
       "      <th>3</th>\n",
       "      <td>dataset\\non_defective\\non_defective_11.jpg</td>\n",
       "      <td>non_defective</td>\n",
       "      <td>NaN</td>\n",
       "    </tr>\n",
       "    <tr>\n",
       "      <th>4</th>\n",
       "      <td>dataset\\non_defective\\non_defective_12.jpg</td>\n",
       "      <td>non_defective</td>\n",
       "      <td>NaN</td>\n",
       "    </tr>\n",
       "    <tr>\n",
       "      <th>5</th>\n",
       "      <td>dataset\\non_defective\\non_defective_13.jpg</td>\n",
       "      <td>non_defective</td>\n",
       "      <td>NaN</td>\n",
       "    </tr>\n",
       "    <tr>\n",
       "      <th>6</th>\n",
       "      <td>dataset\\non_defective\\non_defective_14.jpg</td>\n",
       "      <td>non_defective</td>\n",
       "      <td>NaN</td>\n",
       "    </tr>\n",
       "    <tr>\n",
       "      <th>7</th>\n",
       "      <td>dataset\\non_defective\\non_defective_15.jpg</td>\n",
       "      <td>non_defective</td>\n",
       "      <td>NaN</td>\n",
       "    </tr>\n",
       "    <tr>\n",
       "      <th>8</th>\n",
       "      <td>dataset\\non_defective\\non_defective_16.jpg</td>\n",
       "      <td>non_defective</td>\n",
       "      <td>NaN</td>\n",
       "    </tr>\n",
       "    <tr>\n",
       "      <th>9</th>\n",
       "      <td>dataset\\non_defective\\non_defective_17.jpg</td>\n",
       "      <td>non_defective</td>\n",
       "      <td>NaN</td>\n",
       "    </tr>\n",
       "    <tr>\n",
       "      <th>10</th>\n",
       "      <td>dataset\\non_defective\\non_defective_18.jpg</td>\n",
       "      <td>non_defective</td>\n",
       "      <td>NaN</td>\n",
       "    </tr>\n",
       "    <tr>\n",
       "      <th>11</th>\n",
       "      <td>dataset\\non_defective\\non_defective_19.jpg</td>\n",
       "      <td>non_defective</td>\n",
       "      <td>NaN</td>\n",
       "    </tr>\n",
       "    <tr>\n",
       "      <th>12</th>\n",
       "      <td>dataset\\non_defective\\non_defective_2.jpg</td>\n",
       "      <td>non_defective</td>\n",
       "      <td>NaN</td>\n",
       "    </tr>\n",
       "    <tr>\n",
       "      <th>13</th>\n",
       "      <td>dataset\\non_defective\\non_defective_3.jpg</td>\n",
       "      <td>non_defective</td>\n",
       "      <td>NaN</td>\n",
       "    </tr>\n",
       "    <tr>\n",
       "      <th>14</th>\n",
       "      <td>dataset\\non_defective\\non_defective_4.jpg</td>\n",
       "      <td>non_defective</td>\n",
       "      <td>NaN</td>\n",
       "    </tr>\n",
       "    <tr>\n",
       "      <th>15</th>\n",
       "      <td>dataset\\non_defective\\non_defective_5.jpg</td>\n",
       "      <td>non_defective</td>\n",
       "      <td>NaN</td>\n",
       "    </tr>\n",
       "    <tr>\n",
       "      <th>16</th>\n",
       "      <td>dataset\\non_defective\\non_defective_6.jpg</td>\n",
       "      <td>non_defective</td>\n",
       "      <td>NaN</td>\n",
       "    </tr>\n",
       "    <tr>\n",
       "      <th>17</th>\n",
       "      <td>dataset\\non_defective\\non_defective_7.jpg</td>\n",
       "      <td>non_defective</td>\n",
       "      <td>NaN</td>\n",
       "    </tr>\n",
       "    <tr>\n",
       "      <th>18</th>\n",
       "      <td>dataset\\non_defective\\non_defective_8.jpg</td>\n",
       "      <td>non_defective</td>\n",
       "      <td>NaN</td>\n",
       "    </tr>\n",
       "    <tr>\n",
       "      <th>19</th>\n",
       "      <td>dataset\\non_defective\\non_defective_9.jpg</td>\n",
       "      <td>non_defective</td>\n",
       "      <td>NaN</td>\n",
       "    </tr>\n",
       "    <tr>\n",
       "      <th>20</th>\n",
       "      <td>dataset\\defective\\overheat\\overheat_18.jpg</td>\n",
       "      <td>defective</td>\n",
       "      <td>overheat</td>\n",
       "    </tr>\n",
       "    <tr>\n",
       "      <th>21</th>\n",
       "      <td>dataset\\defective\\overheat\\overheat_4.jpg</td>\n",
       "      <td>defective</td>\n",
       "      <td>overheat</td>\n",
       "    </tr>\n",
       "    <tr>\n",
       "      <th>22</th>\n",
       "      <td>dataset\\defective\\overheat\\overheat_6.jpg</td>\n",
       "      <td>defective</td>\n",
       "      <td>overheat</td>\n",
       "    </tr>\n",
       "    <tr>\n",
       "      <th>23</th>\n",
       "      <td>dataset\\defective\\rust\\rust_0.jpg</td>\n",
       "      <td>defective</td>\n",
       "      <td>rust</td>\n",
       "    </tr>\n",
       "    <tr>\n",
       "      <th>24</th>\n",
       "      <td>dataset\\defective\\rust\\rust_11.jpg</td>\n",
       "      <td>defective</td>\n",
       "      <td>rust</td>\n",
       "    </tr>\n",
       "    <tr>\n",
       "      <th>25</th>\n",
       "      <td>dataset\\defective\\rust\\rust_14.jpg</td>\n",
       "      <td>defective</td>\n",
       "      <td>rust</td>\n",
       "    </tr>\n",
       "    <tr>\n",
       "      <th>26</th>\n",
       "      <td>dataset\\defective\\rust\\rust_16.jpg</td>\n",
       "      <td>defective</td>\n",
       "      <td>rust</td>\n",
       "    </tr>\n",
       "    <tr>\n",
       "      <th>27</th>\n",
       "      <td>dataset\\defective\\rust\\rust_19.jpg</td>\n",
       "      <td>defective</td>\n",
       "      <td>rust</td>\n",
       "    </tr>\n",
       "    <tr>\n",
       "      <th>28</th>\n",
       "      <td>dataset\\defective\\rust\\rust_2.jpg</td>\n",
       "      <td>defective</td>\n",
       "      <td>rust</td>\n",
       "    </tr>\n",
       "    <tr>\n",
       "      <th>29</th>\n",
       "      <td>dataset\\defective\\rust\\rust_3.jpg</td>\n",
       "      <td>defective</td>\n",
       "      <td>rust</td>\n",
       "    </tr>\n",
       "    <tr>\n",
       "      <th>30</th>\n",
       "      <td>dataset\\defective\\tear\\tear_1.jpg</td>\n",
       "      <td>defective</td>\n",
       "      <td>tear</td>\n",
       "    </tr>\n",
       "    <tr>\n",
       "      <th>31</th>\n",
       "      <td>dataset\\defective\\tear\\tear_10.jpg</td>\n",
       "      <td>defective</td>\n",
       "      <td>tear</td>\n",
       "    </tr>\n",
       "    <tr>\n",
       "      <th>32</th>\n",
       "      <td>dataset\\defective\\tear\\tear_12.jpg</td>\n",
       "      <td>defective</td>\n",
       "      <td>tear</td>\n",
       "    </tr>\n",
       "    <tr>\n",
       "      <th>33</th>\n",
       "      <td>dataset\\defective\\tear\\tear_13.jpg</td>\n",
       "      <td>defective</td>\n",
       "      <td>tear</td>\n",
       "    </tr>\n",
       "    <tr>\n",
       "      <th>34</th>\n",
       "      <td>dataset\\defective\\tear\\tear_15.jpg</td>\n",
       "      <td>defective</td>\n",
       "      <td>tear</td>\n",
       "    </tr>\n",
       "    <tr>\n",
       "      <th>35</th>\n",
       "      <td>dataset\\defective\\tear\\tear_17.jpg</td>\n",
       "      <td>defective</td>\n",
       "      <td>tear</td>\n",
       "    </tr>\n",
       "    <tr>\n",
       "      <th>36</th>\n",
       "      <td>dataset\\defective\\tear\\tear_5.jpg</td>\n",
       "      <td>defective</td>\n",
       "      <td>tear</td>\n",
       "    </tr>\n",
       "    <tr>\n",
       "      <th>37</th>\n",
       "      <td>dataset\\defective\\tear\\tear_7.jpg</td>\n",
       "      <td>defective</td>\n",
       "      <td>tear</td>\n",
       "    </tr>\n",
       "    <tr>\n",
       "      <th>38</th>\n",
       "      <td>dataset\\defective\\tear\\tear_8.jpg</td>\n",
       "      <td>defective</td>\n",
       "      <td>tear</td>\n",
       "    </tr>\n",
       "    <tr>\n",
       "      <th>39</th>\n",
       "      <td>dataset\\defective\\tear\\tear_9.jpg</td>\n",
       "      <td>defective</td>\n",
       "      <td>tear</td>\n",
       "    </tr>\n",
       "  </tbody>\n",
       "</table>\n",
       "</div>"
      ],
      "text/plain": [
       "                                         Image       Category Defect Type\n",
       "0    dataset\\non_defective\\non_defective_0.jpg  non_defective         NaN\n",
       "1    dataset\\non_defective\\non_defective_1.jpg  non_defective         NaN\n",
       "2   dataset\\non_defective\\non_defective_10.jpg  non_defective         NaN\n",
       "3   dataset\\non_defective\\non_defective_11.jpg  non_defective         NaN\n",
       "4   dataset\\non_defective\\non_defective_12.jpg  non_defective         NaN\n",
       "5   dataset\\non_defective\\non_defective_13.jpg  non_defective         NaN\n",
       "6   dataset\\non_defective\\non_defective_14.jpg  non_defective         NaN\n",
       "7   dataset\\non_defective\\non_defective_15.jpg  non_defective         NaN\n",
       "8   dataset\\non_defective\\non_defective_16.jpg  non_defective         NaN\n",
       "9   dataset\\non_defective\\non_defective_17.jpg  non_defective         NaN\n",
       "10  dataset\\non_defective\\non_defective_18.jpg  non_defective         NaN\n",
       "11  dataset\\non_defective\\non_defective_19.jpg  non_defective         NaN\n",
       "12   dataset\\non_defective\\non_defective_2.jpg  non_defective         NaN\n",
       "13   dataset\\non_defective\\non_defective_3.jpg  non_defective         NaN\n",
       "14   dataset\\non_defective\\non_defective_4.jpg  non_defective         NaN\n",
       "15   dataset\\non_defective\\non_defective_5.jpg  non_defective         NaN\n",
       "16   dataset\\non_defective\\non_defective_6.jpg  non_defective         NaN\n",
       "17   dataset\\non_defective\\non_defective_7.jpg  non_defective         NaN\n",
       "18   dataset\\non_defective\\non_defective_8.jpg  non_defective         NaN\n",
       "19   dataset\\non_defective\\non_defective_9.jpg  non_defective         NaN\n",
       "20  dataset\\defective\\overheat\\overheat_18.jpg      defective    overheat\n",
       "21   dataset\\defective\\overheat\\overheat_4.jpg      defective    overheat\n",
       "22   dataset\\defective\\overheat\\overheat_6.jpg      defective    overheat\n",
       "23           dataset\\defective\\rust\\rust_0.jpg      defective        rust\n",
       "24          dataset\\defective\\rust\\rust_11.jpg      defective        rust\n",
       "25          dataset\\defective\\rust\\rust_14.jpg      defective        rust\n",
       "26          dataset\\defective\\rust\\rust_16.jpg      defective        rust\n",
       "27          dataset\\defective\\rust\\rust_19.jpg      defective        rust\n",
       "28           dataset\\defective\\rust\\rust_2.jpg      defective        rust\n",
       "29           dataset\\defective\\rust\\rust_3.jpg      defective        rust\n",
       "30           dataset\\defective\\tear\\tear_1.jpg      defective        tear\n",
       "31          dataset\\defective\\tear\\tear_10.jpg      defective        tear\n",
       "32          dataset\\defective\\tear\\tear_12.jpg      defective        tear\n",
       "33          dataset\\defective\\tear\\tear_13.jpg      defective        tear\n",
       "34          dataset\\defective\\tear\\tear_15.jpg      defective        tear\n",
       "35          dataset\\defective\\tear\\tear_17.jpg      defective        tear\n",
       "36           dataset\\defective\\tear\\tear_5.jpg      defective        tear\n",
       "37           dataset\\defective\\tear\\tear_7.jpg      defective        tear\n",
       "38           dataset\\defective\\tear\\tear_8.jpg      defective        tear\n",
       "39           dataset\\defective\\tear\\tear_9.jpg      defective        tear"
      ]
     },
     "execution_count": 41,
     "metadata": {},
     "output_type": "execute_result"
    }
   ],
   "source": [
    "df"
   ]
  },
  {
   "cell_type": "code",
   "execution_count": 42,
   "id": "6b58726d-9f91-494e-8379-1234d5620e7d",
   "metadata": {},
   "outputs": [
    {
     "data": {
      "text/html": [
       "<div>\n",
       "<style scoped>\n",
       "    .dataframe tbody tr th:only-of-type {\n",
       "        vertical-align: middle;\n",
       "    }\n",
       "\n",
       "    .dataframe tbody tr th {\n",
       "        vertical-align: top;\n",
       "    }\n",
       "\n",
       "    .dataframe thead th {\n",
       "        text-align: right;\n",
       "    }\n",
       "</style>\n",
       "<table border=\"1\" class=\"dataframe\">\n",
       "  <thead>\n",
       "    <tr style=\"text-align: right;\">\n",
       "      <th></th>\n",
       "      <th>Image</th>\n",
       "      <th>Category</th>\n",
       "      <th>Defect Type</th>\n",
       "    </tr>\n",
       "  </thead>\n",
       "  <tbody>\n",
       "    <tr>\n",
       "      <th>0</th>\n",
       "      <td>dataset\\non_defective\\non_defective_0.jpg</td>\n",
       "      <td>non_defective</td>\n",
       "      <td>NaN</td>\n",
       "    </tr>\n",
       "    <tr>\n",
       "      <th>1</th>\n",
       "      <td>dataset\\non_defective\\non_defective_1.jpg</td>\n",
       "      <td>non_defective</td>\n",
       "      <td>NaN</td>\n",
       "    </tr>\n",
       "    <tr>\n",
       "      <th>2</th>\n",
       "      <td>dataset\\non_defective\\non_defective_10.jpg</td>\n",
       "      <td>non_defective</td>\n",
       "      <td>NaN</td>\n",
       "    </tr>\n",
       "    <tr>\n",
       "      <th>3</th>\n",
       "      <td>dataset\\non_defective\\non_defective_11.jpg</td>\n",
       "      <td>non_defective</td>\n",
       "      <td>NaN</td>\n",
       "    </tr>\n",
       "    <tr>\n",
       "      <th>4</th>\n",
       "      <td>dataset\\non_defective\\non_defective_12.jpg</td>\n",
       "      <td>non_defective</td>\n",
       "      <td>NaN</td>\n",
       "    </tr>\n",
       "    <tr>\n",
       "      <th>5</th>\n",
       "      <td>dataset\\non_defective\\non_defective_13.jpg</td>\n",
       "      <td>non_defective</td>\n",
       "      <td>NaN</td>\n",
       "    </tr>\n",
       "    <tr>\n",
       "      <th>6</th>\n",
       "      <td>dataset\\non_defective\\non_defective_14.jpg</td>\n",
       "      <td>non_defective</td>\n",
       "      <td>NaN</td>\n",
       "    </tr>\n",
       "    <tr>\n",
       "      <th>7</th>\n",
       "      <td>dataset\\non_defective\\non_defective_15.jpg</td>\n",
       "      <td>non_defective</td>\n",
       "      <td>NaN</td>\n",
       "    </tr>\n",
       "    <tr>\n",
       "      <th>8</th>\n",
       "      <td>dataset\\non_defective\\non_defective_16.jpg</td>\n",
       "      <td>non_defective</td>\n",
       "      <td>NaN</td>\n",
       "    </tr>\n",
       "    <tr>\n",
       "      <th>9</th>\n",
       "      <td>dataset\\non_defective\\non_defective_17.jpg</td>\n",
       "      <td>non_defective</td>\n",
       "      <td>NaN</td>\n",
       "    </tr>\n",
       "  </tbody>\n",
       "</table>\n",
       "</div>"
      ],
      "text/plain": [
       "                                        Image       Category Defect Type\n",
       "0   dataset\\non_defective\\non_defective_0.jpg  non_defective         NaN\n",
       "1   dataset\\non_defective\\non_defective_1.jpg  non_defective         NaN\n",
       "2  dataset\\non_defective\\non_defective_10.jpg  non_defective         NaN\n",
       "3  dataset\\non_defective\\non_defective_11.jpg  non_defective         NaN\n",
       "4  dataset\\non_defective\\non_defective_12.jpg  non_defective         NaN\n",
       "5  dataset\\non_defective\\non_defective_13.jpg  non_defective         NaN\n",
       "6  dataset\\non_defective\\non_defective_14.jpg  non_defective         NaN\n",
       "7  dataset\\non_defective\\non_defective_15.jpg  non_defective         NaN\n",
       "8  dataset\\non_defective\\non_defective_16.jpg  non_defective         NaN\n",
       "9  dataset\\non_defective\\non_defective_17.jpg  non_defective         NaN"
      ]
     },
     "execution_count": 42,
     "metadata": {},
     "output_type": "execute_result"
    }
   ],
   "source": [
    "df.head(10)"
   ]
  },
  {
   "cell_type": "code",
   "execution_count": 43,
   "id": "d199935d-acdd-410d-a77e-b2fe2e7e0852",
   "metadata": {},
   "outputs": [
    {
     "data": {
      "text/html": [
       "<div>\n",
       "<style scoped>\n",
       "    .dataframe tbody tr th:only-of-type {\n",
       "        vertical-align: middle;\n",
       "    }\n",
       "\n",
       "    .dataframe tbody tr th {\n",
       "        vertical-align: top;\n",
       "    }\n",
       "\n",
       "    .dataframe thead th {\n",
       "        text-align: right;\n",
       "    }\n",
       "</style>\n",
       "<table border=\"1\" class=\"dataframe\">\n",
       "  <thead>\n",
       "    <tr style=\"text-align: right;\">\n",
       "      <th></th>\n",
       "      <th>Image</th>\n",
       "      <th>Category</th>\n",
       "      <th>Defect Type</th>\n",
       "    </tr>\n",
       "  </thead>\n",
       "  <tbody>\n",
       "    <tr>\n",
       "      <th>30</th>\n",
       "      <td>dataset\\defective\\tear\\tear_1.jpg</td>\n",
       "      <td>defective</td>\n",
       "      <td>tear</td>\n",
       "    </tr>\n",
       "    <tr>\n",
       "      <th>31</th>\n",
       "      <td>dataset\\defective\\tear\\tear_10.jpg</td>\n",
       "      <td>defective</td>\n",
       "      <td>tear</td>\n",
       "    </tr>\n",
       "    <tr>\n",
       "      <th>32</th>\n",
       "      <td>dataset\\defective\\tear\\tear_12.jpg</td>\n",
       "      <td>defective</td>\n",
       "      <td>tear</td>\n",
       "    </tr>\n",
       "    <tr>\n",
       "      <th>33</th>\n",
       "      <td>dataset\\defective\\tear\\tear_13.jpg</td>\n",
       "      <td>defective</td>\n",
       "      <td>tear</td>\n",
       "    </tr>\n",
       "    <tr>\n",
       "      <th>34</th>\n",
       "      <td>dataset\\defective\\tear\\tear_15.jpg</td>\n",
       "      <td>defective</td>\n",
       "      <td>tear</td>\n",
       "    </tr>\n",
       "    <tr>\n",
       "      <th>35</th>\n",
       "      <td>dataset\\defective\\tear\\tear_17.jpg</td>\n",
       "      <td>defective</td>\n",
       "      <td>tear</td>\n",
       "    </tr>\n",
       "    <tr>\n",
       "      <th>36</th>\n",
       "      <td>dataset\\defective\\tear\\tear_5.jpg</td>\n",
       "      <td>defective</td>\n",
       "      <td>tear</td>\n",
       "    </tr>\n",
       "    <tr>\n",
       "      <th>37</th>\n",
       "      <td>dataset\\defective\\tear\\tear_7.jpg</td>\n",
       "      <td>defective</td>\n",
       "      <td>tear</td>\n",
       "    </tr>\n",
       "    <tr>\n",
       "      <th>38</th>\n",
       "      <td>dataset\\defective\\tear\\tear_8.jpg</td>\n",
       "      <td>defective</td>\n",
       "      <td>tear</td>\n",
       "    </tr>\n",
       "    <tr>\n",
       "      <th>39</th>\n",
       "      <td>dataset\\defective\\tear\\tear_9.jpg</td>\n",
       "      <td>defective</td>\n",
       "      <td>tear</td>\n",
       "    </tr>\n",
       "  </tbody>\n",
       "</table>\n",
       "</div>"
      ],
      "text/plain": [
       "                                 Image   Category Defect Type\n",
       "30   dataset\\defective\\tear\\tear_1.jpg  defective        tear\n",
       "31  dataset\\defective\\tear\\tear_10.jpg  defective        tear\n",
       "32  dataset\\defective\\tear\\tear_12.jpg  defective        tear\n",
       "33  dataset\\defective\\tear\\tear_13.jpg  defective        tear\n",
       "34  dataset\\defective\\tear\\tear_15.jpg  defective        tear\n",
       "35  dataset\\defective\\tear\\tear_17.jpg  defective        tear\n",
       "36   dataset\\defective\\tear\\tear_5.jpg  defective        tear\n",
       "37   dataset\\defective\\tear\\tear_7.jpg  defective        tear\n",
       "38   dataset\\defective\\tear\\tear_8.jpg  defective        tear\n",
       "39   dataset\\defective\\tear\\tear_9.jpg  defective        tear"
      ]
     },
     "execution_count": 43,
     "metadata": {},
     "output_type": "execute_result"
    }
   ],
   "source": [
    "df.tail(10)"
   ]
  },
  {
   "cell_type": "code",
   "execution_count": 44,
   "id": "fe7922f2-ecd0-4048-987b-4719a1f27dcb",
   "metadata": {},
   "outputs": [
    {
     "data": {
      "text/html": [
       "<div>\n",
       "<style scoped>\n",
       "    .dataframe tbody tr th:only-of-type {\n",
       "        vertical-align: middle;\n",
       "    }\n",
       "\n",
       "    .dataframe tbody tr th {\n",
       "        vertical-align: top;\n",
       "    }\n",
       "\n",
       "    .dataframe thead th {\n",
       "        text-align: right;\n",
       "    }\n",
       "</style>\n",
       "<table border=\"1\" class=\"dataframe\">\n",
       "  <thead>\n",
       "    <tr style=\"text-align: right;\">\n",
       "      <th></th>\n",
       "      <th>Image</th>\n",
       "      <th>Category</th>\n",
       "      <th>Defect Type</th>\n",
       "    </tr>\n",
       "  </thead>\n",
       "  <tbody>\n",
       "    <tr>\n",
       "      <th>count</th>\n",
       "      <td>40</td>\n",
       "      <td>40</td>\n",
       "      <td>20</td>\n",
       "    </tr>\n",
       "    <tr>\n",
       "      <th>unique</th>\n",
       "      <td>40</td>\n",
       "      <td>2</td>\n",
       "      <td>3</td>\n",
       "    </tr>\n",
       "    <tr>\n",
       "      <th>top</th>\n",
       "      <td>dataset\\non_defective\\non_defective_0.jpg</td>\n",
       "      <td>non_defective</td>\n",
       "      <td>tear</td>\n",
       "    </tr>\n",
       "    <tr>\n",
       "      <th>freq</th>\n",
       "      <td>1</td>\n",
       "      <td>20</td>\n",
       "      <td>10</td>\n",
       "    </tr>\n",
       "  </tbody>\n",
       "</table>\n",
       "</div>"
      ],
      "text/plain": [
       "                                            Image       Category Defect Type\n",
       "count                                          40             40          20\n",
       "unique                                         40              2           3\n",
       "top     dataset\\non_defective\\non_defective_0.jpg  non_defective        tear\n",
       "freq                                            1             20          10"
      ]
     },
     "execution_count": 44,
     "metadata": {},
     "output_type": "execute_result"
    }
   ],
   "source": [
    "df.describe()"
   ]
  },
  {
   "cell_type": "code",
   "execution_count": 45,
   "id": "198f6b75-eb63-4beb-b305-67dd4c54da50",
   "metadata": {},
   "outputs": [
    {
     "name": "stdout",
     "output_type": "stream",
     "text": [
      "<class 'pandas.core.frame.DataFrame'>\n",
      "RangeIndex: 40 entries, 0 to 39\n",
      "Data columns (total 3 columns):\n",
      " #   Column       Non-Null Count  Dtype \n",
      "---  ------       --------------  ----- \n",
      " 0   Image        40 non-null     object\n",
      " 1   Category     40 non-null     object\n",
      " 2   Defect Type  20 non-null     object\n",
      "dtypes: object(3)\n",
      "memory usage: 1.1+ KB\n"
     ]
    }
   ],
   "source": [
    "df.info()"
   ]
  },
  {
   "cell_type": "code",
   "execution_count": 46,
   "id": "875192bd-bb9f-47d0-be8e-cf53cf4ae300",
   "metadata": {},
   "outputs": [
    {
     "data": {
      "text/plain": [
       "(40, 3)"
      ]
     },
     "execution_count": 46,
     "metadata": {},
     "output_type": "execute_result"
    }
   ],
   "source": [
    "df.shape"
   ]
  },
  {
   "cell_type": "code",
   "execution_count": 47,
   "id": "58047736-57db-4dc3-ae3e-92f468d64929",
   "metadata": {},
   "outputs": [
    {
     "data": {
      "text/plain": [
       "Image          object\n",
       "Category       object\n",
       "Defect Type    object\n",
       "dtype: object"
      ]
     },
     "execution_count": 47,
     "metadata": {},
     "output_type": "execute_result"
    }
   ],
   "source": [
    "df.dtypes"
   ]
  },
  {
   "cell_type": "code",
   "execution_count": 93,
   "id": "f965fffd-250d-4acd-9544-e8016937b19b",
   "metadata": {},
   "outputs": [],
   "source": [
    "df = pd.read_csv('labels.csv')\n",
    "\n",
    "# Convert categorical columns to dummy variables \n",
    "df = pd.get_dummies(data = df, columns=['Image', 'Defect Type'])\n",
    "\n",
    "# Split into features (X) and target (y)\n",
    "x = df.drop(columns = ['Category'])\n",
    "y = df['Category']\n"
   ]
  },
  {
   "cell_type": "code",
   "execution_count": 94,
   "id": "de276d08-a602-4b12-a1f2-6834510f5d55",
   "metadata": {},
   "outputs": [],
   "source": [
    "# Normalize the features\n",
    "sc = StandardScaler()\n",
    "x = sc.fit_transform(x)\n"
   ]
  },
  {
   "cell_type": "code",
   "execution_count": 95,
   "id": "a24e2bcc-bc05-4483-bad0-4c67a1d6f4d2",
   "metadata": {},
   "outputs": [],
   "source": [
    "# Encode target labels\n",
    "encoder = LabelEncoder()\n",
    "y = encoder.fit_transform(y)\n",
    "y = to_categorical(y)  # One-hot encoding of the labels\n"
   ]
  },
  {
   "cell_type": "code",
   "execution_count": 96,
   "id": "1bda7fca-fbc9-4547-98ba-5e04c5699f0c",
   "metadata": {},
   "outputs": [],
   "source": [
    "# Split data into training and testing sets\n",
    "xtrain, xtest, ytrain, ytest = train_test_split(x, y, test_size = 0.20, random_state=1)\n"
   ]
  },
  {
   "cell_type": "code",
   "execution_count": 97,
   "id": "cdf3aa1d-0574-4b6b-9e70-0330cc3ea063",
   "metadata": {},
   "outputs": [
    {
     "name": "stdout",
     "output_type": "stream",
     "text": [
      "Shape of xtrain before reshaping: (32, 43)\n",
      "Shape of xtrain after reshaping: (32, 28, 28, 1)\n"
     ]
    }
   ],
   "source": [
    "# Check the shape of the data\n",
    "print(\"Shape of xtrain before reshaping:\", xtrain.shape)\n",
    "\n",
    "# If the dataset has 784 features per sample (28x28 image), reshape accordingly\n",
    "if xtrain.shape[1] == 784:  \n",
    "    xtrain = xtrain.reshape(-1, 28, 28, 1)\n",
    "    xtest = xtest.reshape(-1, 28, 28, 1)\n",
    "else:\n",
    "    # Resize images to (28, 28) \n",
    "    xtrain_resized = np.array([resize(image, (28, 28), mode='reflect') for image in xtrain])\n",
    "    xtest_resized = np.array([resize(image, (28, 28), mode='reflect') for image in xtest])\n",
    "    \n",
    "    # Reshape for CNN input\n",
    "    xtrain_resized = xtrain_resized.reshape(-1, 28, 28, 1)\n",
    "    xtest_resized = xtest_resized.reshape(-1, 28, 28, 1)\n",
    "\n",
    "    # Use resized images\n",
    "    xtrain = xtrain_resized\n",
    "    xtest = xtest_resized\n",
    "\n",
    "print(\"Shape of xtrain after reshaping:\", xtrain.shape)\n"
   ]
  },
  {
   "cell_type": "markdown",
   "id": "68bb63d3-cb9f-42d0-b002-ffc4e7b3b288",
   "metadata": {},
   "source": [
    "## CNN model "
   ]
  },
  {
   "cell_type": "code",
   "execution_count": 98,
   "id": "33f3defa-64ad-451d-ac79-efd8f0d5c0fd",
   "metadata": {},
   "outputs": [
    {
     "name": "stderr",
     "output_type": "stream",
     "text": [
      "C:\\Users\\vaibh\\AppData\\Roaming\\Python\\Python312\\site-packages\\keras\\src\\layers\\convolutional\\base_conv.py:107: UserWarning: Do not pass an `input_shape`/`input_dim` argument to a layer. When using Sequential models, prefer using an `Input(shape)` object as the first layer in the model instead.\n",
      "  super().__init__(activity_regularizer=activity_regularizer, **kwargs)\n"
     ]
    }
   ],
   "source": [
    "model = Sequential()\n",
    "\n",
    "#  the convolutional layers and pooling layers\n",
    "model.add(Conv2D(32, (3, 3), activation='relu', input_shape=(28, 28, 1)))\n",
    "model.add(MaxPooling2D(pool_size=(2, 2)))\n",
    "\n",
    "#  another convolutional layer\n",
    "model.add(Conv2D(64, (3, 3), activation='relu'))\n",
    "model.add(MaxPooling2D(pool_size=(2, 2)))\n",
    "\n",
    "# Flatten the output from the convolutional layers\n",
    "model.add(Flatten())\n",
    "\n",
    "model.add(Dense(128, activation='relu'))\n",
    "\n",
    "model.add(Dense(ytrain.shape[1], activation='softmax'))\n"
   ]
  },
  {
   "cell_type": "code",
   "execution_count": 99,
   "id": "bb4aa260-b80a-4f62-aa21-a9e10d9e348a",
   "metadata": {},
   "outputs": [],
   "source": [
    "# Compile the model\n",
    "model.compile(optimizer='adam', loss='categorical_crossentropy', metrics=['accuracy'])\n"
   ]
  },
  {
   "cell_type": "code",
   "execution_count": 100,
   "id": "4bad28dc-c23d-4d5c-8c0d-cf9365d7df7c",
   "metadata": {},
   "outputs": [
    {
     "name": "stdout",
     "output_type": "stream",
     "text": [
      "Epoch 1/10\n",
      "\u001b[1m1/1\u001b[0m \u001b[32m━━━━━━━━━━━━━━━━━━━━\u001b[0m\u001b[37m\u001b[0m \u001b[1m3s\u001b[0m 3s/step - accuracy: 0.6250 - loss: 0.6758 - val_accuracy: 1.0000 - val_loss: 0.3983\n",
      "Epoch 2/10\n",
      "\u001b[1m1/1\u001b[0m \u001b[32m━━━━━━━━━━━━━━━━━━━━\u001b[0m\u001b[37m\u001b[0m \u001b[1m0s\u001b[0m 158ms/step - accuracy: 1.0000 - loss: 0.4134 - val_accuracy: 1.0000 - val_loss: 0.2564\n",
      "Epoch 3/10\n",
      "\u001b[1m1/1\u001b[0m \u001b[32m━━━━━━━━━━━━━━━━━━━━\u001b[0m\u001b[37m\u001b[0m \u001b[1m0s\u001b[0m 128ms/step - accuracy: 1.0000 - loss: 0.2554 - val_accuracy: 1.0000 - val_loss: 0.1786\n",
      "Epoch 4/10\n",
      "\u001b[1m1/1\u001b[0m \u001b[32m━━━━━━━━━━━━━━━━━━━━\u001b[0m\u001b[37m\u001b[0m \u001b[1m0s\u001b[0m 137ms/step - accuracy: 1.0000 - loss: 0.1533 - val_accuracy: 1.0000 - val_loss: 0.1375\n",
      "Epoch 5/10\n",
      "\u001b[1m1/1\u001b[0m \u001b[32m━━━━━━━━━━━━━━━━━━━━\u001b[0m\u001b[37m\u001b[0m \u001b[1m0s\u001b[0m 115ms/step - accuracy: 1.0000 - loss: 0.0910 - val_accuracy: 1.0000 - val_loss: 0.1083\n",
      "Epoch 6/10\n",
      "\u001b[1m1/1\u001b[0m \u001b[32m━━━━━━━━━━━━━━━━━━━━\u001b[0m\u001b[37m\u001b[0m \u001b[1m0s\u001b[0m 112ms/step - accuracy: 1.0000 - loss: 0.0556 - val_accuracy: 1.0000 - val_loss: 0.0776\n",
      "Epoch 7/10\n",
      "\u001b[1m1/1\u001b[0m \u001b[32m━━━━━━━━━━━━━━━━━━━━\u001b[0m\u001b[37m\u001b[0m \u001b[1m0s\u001b[0m 116ms/step - accuracy: 1.0000 - loss: 0.0342 - val_accuracy: 1.0000 - val_loss: 0.0498\n",
      "Epoch 8/10\n",
      "\u001b[1m1/1\u001b[0m \u001b[32m━━━━━━━━━━━━━━━━━━━━\u001b[0m\u001b[37m\u001b[0m \u001b[1m0s\u001b[0m 114ms/step - accuracy: 1.0000 - loss: 0.0203 - val_accuracy: 1.0000 - val_loss: 0.0322\n",
      "Epoch 9/10\n",
      "\u001b[1m1/1\u001b[0m \u001b[32m━━━━━━━━━━━━━━━━━━━━\u001b[0m\u001b[37m\u001b[0m \u001b[1m0s\u001b[0m 105ms/step - accuracy: 1.0000 - loss: 0.0114 - val_accuracy: 1.0000 - val_loss: 0.0218\n",
      "Epoch 10/10\n",
      "\u001b[1m1/1\u001b[0m \u001b[32m━━━━━━━━━━━━━━━━━━━━\u001b[0m\u001b[37m\u001b[0m \u001b[1m0s\u001b[0m 184ms/step - accuracy: 1.0000 - loss: 0.0064 - val_accuracy: 1.0000 - val_loss: 0.0154\n"
     ]
    },
    {
     "data": {
      "text/plain": [
       "<keras.src.callbacks.history.History at 0x263ca23c980>"
      ]
     },
     "execution_count": 100,
     "metadata": {},
     "output_type": "execute_result"
    }
   ],
   "source": [
    "## Train the mode\n",
    "model.fit(xtrain, ytrain, epochs=10, batch_size=32, validation_data=(xtest, ytest))\n"
   ]
  },
  {
   "cell_type": "code",
   "execution_count": 101,
   "id": "8381eb50-7398-4c20-8236-2ed962bbcd96",
   "metadata": {},
   "outputs": [
    {
     "name": "stdout",
     "output_type": "stream",
     "text": [
      "\u001b[1m1/1\u001b[0m \u001b[32m━━━━━━━━━━━━━━━━━━━━\u001b[0m\u001b[37m\u001b[0m \u001b[1m0s\u001b[0m 60ms/step - accuracy: 1.0000 - loss: 0.0154\n",
      "Test Accuracy: 1.0\n"
     ]
    }
   ],
   "source": [
    "test_loss, test_accuracy = model.evaluate(xtest, ytest)\n",
    "print(f'Test Accuracy: {test_accuracy}')\n"
   ]
  },
  {
   "cell_type": "code",
   "execution_count": 109,
   "id": "650266e6-a2d1-4a92-ad31-406c64a9ad56",
   "metadata": {},
   "outputs": [
    {
     "data": {
      "image/png": "[encoded data removed]",
      "text/plain": [
       "<Figure size 640x480 with 1 Axes>"
      ]
     },
     "metadata": {},
     "output_type": "display_data"
    },
    {
     "data": {
      "image/png": "[encoded data removed]",
      "text/plain": [
       "<Figure size 640x480 with 1 Axes>"
      ]
     },
     "metadata": {},
     "output_type": "display_data"
    }
   ],
   "source": [
    "# Plotting training and validation accuracy\n",
    "plt.plot(history.history['accuracy'], label='train accuracy')\n",
    "plt.plot(history.history['val_accuracy'], label='test accuracy')\n",
    "plt.title('Accuracy over epochs')\n",
    "plt.xlabel('Epochs')\n",
    "plt.ylabel('Accuracy')\n",
    "plt.legend()\n",
    "plt.show()\n",
    "\n",
    "# Plotting training and validation loss\n",
    "plt.plot(history.history['loss'], label='train loss')\n",
    "plt.plot(history.history['val_loss'], label='test loss')\n",
    "plt.title('Loss over epochs')\n",
    "plt.xlabel('Epochs')\n",
    "plt.ylabel('Loss')\n",
    "plt.legend()\n",
    "plt.show()\n"
   ]
  },
  {
   "cell_type": "code",
   "execution_count": 110,
   "id": "6daeebd3-1c1f-4d51-82b2-7273c7d0c14a",
   "metadata": {},
   "outputs": [
    {
     "name": "stdout",
     "output_type": "stream",
     "text": [
      "\u001b[1m1/1\u001b[0m \u001b[32m━━━━━━━━━━━━━━━━━━━━\u001b[0m\u001b[37m\u001b[0m \u001b[1m0s\u001b[0m 77ms/step - accuracy: 1.0000 - loss: 9.2002e-04\n",
      "Test Loss: 0.0009200162021443248\n",
      "Test Accuracy: 1.0\n"
     ]
    }
   ],
   "source": [
    "# Evaluate the model on the test data\n",
    "test_loss, test_accuracy = model.evaluate(xtest, ytest)\n",
    "print(f'Test Loss: {test_loss}')\n",
    "print(f'Test Accuracy: {test_accuracy}')\n"
   ]
  },
  {
   "cell_type": "code",
   "execution_count": 111,
   "id": "74494713-2248-4767-a7c9-a42b30431657",
   "metadata": {},
   "outputs": [
    {
     "name": "stderr",
     "output_type": "stream",
     "text": [
      "WARNING:absl:You are saving your model as an HDF5 file via `model.save()` or `keras.saving.save_model(model)`. This file format is considered legacy. We recommend using instead the native Keras format, e.g. `model.save('my_model.keras')` or `keras.saving.save_model(model, 'my_model.keras')`. \n"
     ]
    }
   ],
   "source": [
    "model.save('cnn_model.h5')\n"
   ]
  },
  {
   "cell_type": "code",
   "execution_count": 135,
   "id": "c71e17d1-faeb-4f37-b9b3-0d0343d2698e",
   "metadata": {},
   "outputs": [
    {
     "name": "stdout",
     "output_type": "stream",
     "text": [
      "\u001b[1m1/1\u001b[0m \u001b[32m━━━━━━━━━━━━━━━━━━━━\u001b[0m\u001b[37m\u001b[0m \u001b[1m0s\u001b[0m 61ms/step - accuracy: 1.0000 - loss: 9.2002e-04\n",
      "Test Accuracy: 1.0\n",
      "\u001b[1m1/1\u001b[0m \u001b[32m━━━━━━━━━━━━━━━━━━━━\u001b[0m\u001b[37m\u001b[0m \u001b[1m0s\u001b[0m 35ms/step\n",
      "               precision    recall  f1-score   support\n",
      "\n",
      "Non-Defective       1.00      1.00      1.00         6\n",
      "    Defective       1.00      1.00      1.00         2\n",
      "\n",
      "     accuracy                           1.00         8\n",
      "    macro avg       1.00      1.00      1.00         8\n",
      " weighted avg       1.00      1.00      1.00         8\n",
      "\n"
     ]
    }
   ],
   "source": [
    "# Evaluate the model on test data\n",
    "test_loss, test_accuracy = model.evaluate(xtest_resized, ytest)\n",
    "print(f'Test Accuracy: {test_accuracy}')\n",
    "\n",
    "# Additional metrics\n",
    "from sklearn.metrics import classification_report\n",
    "y_pred = model.predict(xtest_resized)\n",
    "y_pred_classes = np.argmax(y_pred, axis=1)\n",
    "ytest_classes = np.argmax(ytest, axis=1)\n",
    "\n",
    "print(classification_report(ytest_classes, y_pred_classes, target_names=['Non-Defective', 'Defective']))\n"
   ]
  },
  {
   "cell_type": "code",
   "execution_count": 139,
   "id": "58f04ac0-7d34-455f-8871-a57f568c643f",
   "metadata": {},
   "outputs": [],
   "source": [
    "new_image_path = 'C:\\\\Users\\\\vaibh\\\\OneDrive\\\\Desktop\\\\Task\\\\dataset\\\\non_defective'"
   ]
  },
  {
   "cell_type": "code",
   "execution_count": null,
   "id": "4d03ed7a-c1c0-4da5-879d-758e7aaa43a6",
   "metadata": {},
   "outputs": [],
   "source": [
    "from tensorflow.keras.preprocessing import image\n",
    "# Define the path to the new image\n",
    "  # Replace with your image file pah\n",
    "\n",
    "# Load and preprocess the image\n",
    "new_image = image.load_img(new_image_path, target_size=(28, 28))  # Resize image to 28x28\n",
    "new_image = image.img_to_array(new_image) / 255.0  # Normalize the image\n",
    "new_image = np.expand_dims(new_image, axis=0)  # Add a batch dimension (shape becomes (1, 28, 28, 3))\n",
    "\n",
    "# Make prediction\n",
    "prediction = model.predict(new_image)\n",
    "predicted_class = np.argmax(prediction)  # Get the predicted class index\n",
    "\n",
    "# Output the predicted class\n",
    "print(\"Predicted class:\", 'Defective' if predicted_class == 1 else 'Non-Defective')\n"
   ]
  }
 ],
 "metadata": {
  "kernelspec": {
   "display_name": "Python 3 (ipykernel)",
   "language": "python",
   "name": "python3"
  },
  "language_info": {
   "codemirror_mode": {
    "name": "ipython",
    "version": 3
   },
   "file_extension": ".py",
   "mimetype": "text/x-python",
   "name": "python",
   "nbconvert_exporter": "python",
   "pygments_lexer": "ipython3",
   "version": "3.12.4"
  }
 },
 "nbformat": 4,
 "nbformat_minor": 5
}
